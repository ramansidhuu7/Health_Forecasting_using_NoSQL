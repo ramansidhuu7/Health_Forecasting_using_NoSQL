{
 "cells": [
  {
   "cell_type": "code",
   "execution_count": 2,
   "id": "6d0b1e45",
   "metadata": {},
   "outputs": [],
   "source": [
    "import pandas as pd\n",
    "dataset=pd.read_csv(r\"C:\\Users\\shuba\\Desktop\\healthcare_dataset (1).csv\")"
   ]
  },
  {
   "cell_type": "code",
   "execution_count": 3,
   "id": "896d2ab5",
   "metadata": {},
   "outputs": [
    {
     "data": {
      "text/html": [
       "<div>\n",
       "<style scoped>\n",
       "    .dataframe tbody tr th:only-of-type {\n",
       "        vertical-align: middle;\n",
       "    }\n",
       "\n",
       "    .dataframe tbody tr th {\n",
       "        vertical-align: top;\n",
       "    }\n",
       "\n",
       "    .dataframe thead th {\n",
       "        text-align: right;\n",
       "    }\n",
       "</style>\n",
       "<table border=\"1\" class=\"dataframe\">\n",
       "  <thead>\n",
       "    <tr style=\"text-align: right;\">\n",
       "      <th></th>\n",
       "      <th>Name</th>\n",
       "      <th>Age</th>\n",
       "      <th>Gender</th>\n",
       "      <th>Blood Type</th>\n",
       "      <th>Medical Condition</th>\n",
       "      <th>Date of Admission</th>\n",
       "      <th>Doctor</th>\n",
       "      <th>Hospital</th>\n",
       "      <th>Insurance Provider</th>\n",
       "      <th>Billing Amount</th>\n",
       "      <th>Room Number</th>\n",
       "      <th>Admission Type</th>\n",
       "      <th>Discharge Date</th>\n",
       "      <th>Medication</th>\n",
       "      <th>Test Results</th>\n",
       "    </tr>\n",
       "  </thead>\n",
       "  <tbody>\n",
       "    <tr>\n",
       "      <th>0</th>\n",
       "      <td>Tiffany Ramirez</td>\n",
       "      <td>81.0</td>\n",
       "      <td>Female</td>\n",
       "      <td>O-</td>\n",
       "      <td>Diabetes</td>\n",
       "      <td>2022-11-17</td>\n",
       "      <td>Patrick Parker</td>\n",
       "      <td>Wallace-Hamilton</td>\n",
       "      <td>Medicare</td>\n",
       "      <td>37490.98336</td>\n",
       "      <td>146</td>\n",
       "      <td>Elective</td>\n",
       "      <td>2022-12-01</td>\n",
       "      <td>Aspirin</td>\n",
       "      <td>Inconclusive</td>\n",
       "    </tr>\n",
       "    <tr>\n",
       "      <th>1</th>\n",
       "      <td>Ruben Burns</td>\n",
       "      <td>35.0</td>\n",
       "      <td>Male</td>\n",
       "      <td>O+</td>\n",
       "      <td>Asthma</td>\n",
       "      <td>2023-06-01</td>\n",
       "      <td>Diane Jackson</td>\n",
       "      <td>Burke, Griffin and Cooper</td>\n",
       "      <td>UnitedHealthcare</td>\n",
       "      <td>47304.06485</td>\n",
       "      <td>404</td>\n",
       "      <td>Emergency</td>\n",
       "      <td>2023-06-15</td>\n",
       "      <td>Lipitor</td>\n",
       "      <td>Normal</td>\n",
       "    </tr>\n",
       "    <tr>\n",
       "      <th>2</th>\n",
       "      <td>Chad Byrd</td>\n",
       "      <td>61.0</td>\n",
       "      <td>Male</td>\n",
       "      <td>B-</td>\n",
       "      <td>Obesity</td>\n",
       "      <td>2019-01-09</td>\n",
       "      <td>Paul Baker</td>\n",
       "      <td>Walton LLC</td>\n",
       "      <td>Medicare</td>\n",
       "      <td>36874.89700</td>\n",
       "      <td>292</td>\n",
       "      <td>Emergency</td>\n",
       "      <td>2019-02-08</td>\n",
       "      <td>Lipitor</td>\n",
       "      <td>Normal</td>\n",
       "    </tr>\n",
       "    <tr>\n",
       "      <th>3</th>\n",
       "      <td>Antonio Frederick</td>\n",
       "      <td>49.0</td>\n",
       "      <td>Male</td>\n",
       "      <td>B-</td>\n",
       "      <td>Asthma</td>\n",
       "      <td>2020-05-02</td>\n",
       "      <td>Brian Chandler</td>\n",
       "      <td>Garcia Ltd</td>\n",
       "      <td>Medicare</td>\n",
       "      <td>23303.32209</td>\n",
       "      <td>480</td>\n",
       "      <td>Urgent</td>\n",
       "      <td>2020-05-03</td>\n",
       "      <td>Penicillin</td>\n",
       "      <td>Abnormal</td>\n",
       "    </tr>\n",
       "    <tr>\n",
       "      <th>4</th>\n",
       "      <td>Mrs. Brandy Flowers</td>\n",
       "      <td>NaN</td>\n",
       "      <td>Male</td>\n",
       "      <td>O-</td>\n",
       "      <td>Arthritis</td>\n",
       "      <td>2021-07-09</td>\n",
       "      <td>Dustin Griffin</td>\n",
       "      <td>Jones, Brown and Murray</td>\n",
       "      <td>UnitedHealthcare</td>\n",
       "      <td>18086.34418</td>\n",
       "      <td>477</td>\n",
       "      <td>Urgent</td>\n",
       "      <td>2021-08-02</td>\n",
       "      <td>Paracetamol</td>\n",
       "      <td>Normal</td>\n",
       "    </tr>\n",
       "  </tbody>\n",
       "</table>\n",
       "</div>"
      ],
      "text/plain": [
       "                  Name   Age  Gender Blood Type Medical Condition  \\\n",
       "0      Tiffany Ramirez  81.0  Female         O-          Diabetes   \n",
       "1          Ruben Burns  35.0    Male         O+            Asthma   \n",
       "2            Chad Byrd  61.0    Male         B-           Obesity   \n",
       "3    Antonio Frederick  49.0    Male         B-            Asthma   \n",
       "4  Mrs. Brandy Flowers   NaN    Male         O-         Arthritis   \n",
       "\n",
       "  Date of Admission          Doctor                   Hospital  \\\n",
       "0        2022-11-17  Patrick Parker           Wallace-Hamilton   \n",
       "1        2023-06-01   Diane Jackson  Burke, Griffin and Cooper   \n",
       "2        2019-01-09      Paul Baker                 Walton LLC   \n",
       "3        2020-05-02  Brian Chandler                 Garcia Ltd   \n",
       "4        2021-07-09  Dustin Griffin    Jones, Brown and Murray   \n",
       "\n",
       "  Insurance Provider  Billing Amount  Room Number Admission Type  \\\n",
       "0           Medicare     37490.98336          146       Elective   \n",
       "1   UnitedHealthcare     47304.06485          404      Emergency   \n",
       "2           Medicare     36874.89700          292      Emergency   \n",
       "3           Medicare     23303.32209          480         Urgent   \n",
       "4   UnitedHealthcare     18086.34418          477         Urgent   \n",
       "\n",
       "  Discharge Date   Medication  Test Results  \n",
       "0     2022-12-01      Aspirin  Inconclusive  \n",
       "1     2023-06-15      Lipitor        Normal  \n",
       "2     2019-02-08      Lipitor        Normal  \n",
       "3     2020-05-03   Penicillin      Abnormal  \n",
       "4     2021-08-02  Paracetamol        Normal  "
      ]
     },
     "execution_count": 3,
     "metadata": {},
     "output_type": "execute_result"
    }
   ],
   "source": [
    "dataset.head()"
   ]
  },
  {
   "cell_type": "code",
   "execution_count": 4,
   "id": "6a4126f2",
   "metadata": {},
   "outputs": [
    {
     "name": "stdout",
     "output_type": "stream",
     "text": [
      "<class 'pandas.core.frame.DataFrame'>\n",
      "RangeIndex: 10000 entries, 0 to 9999\n",
      "Data columns (total 15 columns):\n",
      " #   Column              Non-Null Count  Dtype  \n",
      "---  ------              --------------  -----  \n",
      " 0   Name                9975 non-null   object \n",
      " 1   Age                 9972 non-null   float64\n",
      " 2   Gender              9977 non-null   object \n",
      " 3   Blood Type          9981 non-null   object \n",
      " 4   Medical Condition   10000 non-null  object \n",
      " 5   Date of Admission   10000 non-null  object \n",
      " 6   Doctor              10000 non-null  object \n",
      " 7   Hospital            9983 non-null   object \n",
      " 8   Insurance Provider  9991 non-null   object \n",
      " 9   Billing Amount      10000 non-null  float64\n",
      " 10  Room Number         10000 non-null  int64  \n",
      " 11  Admission Type      9998 non-null   object \n",
      " 12  Discharge Date      10000 non-null  object \n",
      " 13  Medication          10000 non-null  object \n",
      " 14  Test Results        9990 non-null   object \n",
      "dtypes: float64(2), int64(1), object(12)\n",
      "memory usage: 1.1+ MB\n"
     ]
    }
   ],
   "source": [
    "dataset.info()"
   ]
  },
  {
   "cell_type": "code",
   "execution_count": 10,
   "id": "17a54757",
   "metadata": {},
   "outputs": [
    {
     "data": {
      "text/html": [
       "<div>\n",
       "<style scoped>\n",
       "    .dataframe tbody tr th:only-of-type {\n",
       "        vertical-align: middle;\n",
       "    }\n",
       "\n",
       "    .dataframe tbody tr th {\n",
       "        vertical-align: top;\n",
       "    }\n",
       "\n",
       "    .dataframe thead th {\n",
       "        text-align: right;\n",
       "    }\n",
       "</style>\n",
       "<table border=\"1\" class=\"dataframe\">\n",
       "  <thead>\n",
       "    <tr style=\"text-align: right;\">\n",
       "      <th></th>\n",
       "      <th>Age</th>\n",
       "      <th>Billing Amount</th>\n",
       "      <th>Room Number</th>\n",
       "    </tr>\n",
       "  </thead>\n",
       "  <tbody>\n",
       "    <tr>\n",
       "      <th>count</th>\n",
       "      <td>9972.000000</td>\n",
       "      <td>10000.000000</td>\n",
       "      <td>10000.000000</td>\n",
       "    </tr>\n",
       "    <tr>\n",
       "      <th>mean</th>\n",
       "      <td>51.444444</td>\n",
       "      <td>25516.806778</td>\n",
       "      <td>300.082000</td>\n",
       "    </tr>\n",
       "    <tr>\n",
       "      <th>std</th>\n",
       "      <td>19.588112</td>\n",
       "      <td>14067.292709</td>\n",
       "      <td>115.806027</td>\n",
       "    </tr>\n",
       "    <tr>\n",
       "      <th>min</th>\n",
       "      <td>18.000000</td>\n",
       "      <td>1000.180837</td>\n",
       "      <td>101.000000</td>\n",
       "    </tr>\n",
       "    <tr>\n",
       "      <th>25%</th>\n",
       "      <td>35.000000</td>\n",
       "      <td>13506.523967</td>\n",
       "      <td>199.000000</td>\n",
       "    </tr>\n",
       "    <tr>\n",
       "      <th>50%</th>\n",
       "      <td>52.000000</td>\n",
       "      <td>25258.112565</td>\n",
       "      <td>299.000000</td>\n",
       "    </tr>\n",
       "    <tr>\n",
       "      <th>75%</th>\n",
       "      <td>68.000000</td>\n",
       "      <td>37733.913725</td>\n",
       "      <td>400.000000</td>\n",
       "    </tr>\n",
       "    <tr>\n",
       "      <th>max</th>\n",
       "      <td>85.000000</td>\n",
       "      <td>49995.902280</td>\n",
       "      <td>500.000000</td>\n",
       "    </tr>\n",
       "  </tbody>\n",
       "</table>\n",
       "</div>"
      ],
      "text/plain": [
       "               Age  Billing Amount   Room Number\n",
       "count  9972.000000    10000.000000  10000.000000\n",
       "mean     51.444444    25516.806778    300.082000\n",
       "std      19.588112    14067.292709    115.806027\n",
       "min      18.000000     1000.180837    101.000000\n",
       "25%      35.000000    13506.523967    199.000000\n",
       "50%      52.000000    25258.112565    299.000000\n",
       "75%      68.000000    37733.913725    400.000000\n",
       "max      85.000000    49995.902280    500.000000"
      ]
     },
     "execution_count": 10,
     "metadata": {},
     "output_type": "execute_result"
    }
   ],
   "source": [
    "dataset.describe()"
   ]
  },
  {
   "cell_type": "code",
   "execution_count": 11,
   "id": "35a3dcbe",
   "metadata": {},
   "outputs": [
    {
     "name": "stdout",
     "output_type": "stream",
     "text": [
      "Columns with missing values:\n",
      "Name                  25\n",
      "Age                   28\n",
      "Gender                23\n",
      "Blood Type            19\n",
      "Medical Condition      0\n",
      "Date of Admission      0\n",
      "Doctor                 0\n",
      "Hospital              17\n",
      "Insurance Provider     9\n",
      "Billing Amount         0\n",
      "Room Number            0\n",
      "Admission Type         2\n",
      "Discharge Date         0\n",
      "Medication             0\n",
      "Test Results          10\n",
      "dtype: int64\n"
     ]
    }
   ],
   "source": [
    "missing_values=dataset.isnull().sum()\n",
    "print(\"Columns with missing values:\")\n",
    "print(missing_values)"
   ]
  },
  {
   "cell_type": "code",
   "execution_count": 15,
   "id": "67b9cf2a",
   "metadata": {},
   "outputs": [],
   "source": [
    "# Fill missing values in 'Age' column with mean and round off\n",
    "dataset['Age'].fillna(dataset['Age'].mean(), inplace=True)\n",
    "dataset['Age'] = dataset['Age'].round().astype(int)"
   ]
  },
  {
   "cell_type": "code",
   "execution_count": 16,
   "id": "a71a9d30",
   "metadata": {},
   "outputs": [],
   "source": [
    "dataset['Date of Admission'] = pd.to_datetime(dataset['Date of Admission'])\n",
    "dataset['Discharge Date'] = pd.to_datetime(dataset['Discharge Date'])"
   ]
  },
  {
   "cell_type": "code",
   "execution_count": 17,
   "id": "16343005",
   "metadata": {},
   "outputs": [
    {
     "name": "stdout",
     "output_type": "stream",
     "text": [
      "<class 'pandas.core.frame.DataFrame'>\n",
      "RangeIndex: 10000 entries, 0 to 9999\n",
      "Data columns (total 15 columns):\n",
      " #   Column              Non-Null Count  Dtype         \n",
      "---  ------              --------------  -----         \n",
      " 0   Name                9975 non-null   object        \n",
      " 1   Age                 10000 non-null  int32         \n",
      " 2   Gender              9977 non-null   object        \n",
      " 3   Blood Type          9981 non-null   object        \n",
      " 4   Medical Condition   10000 non-null  object        \n",
      " 5   Date of Admission   10000 non-null  datetime64[ns]\n",
      " 6   Doctor              10000 non-null  object        \n",
      " 7   Hospital            9983 non-null   object        \n",
      " 8   Insurance Provider  9991 non-null   object        \n",
      " 9   Billing Amount      10000 non-null  float64       \n",
      " 10  Room Number         10000 non-null  int64         \n",
      " 11  Admission Type      9998 non-null   object        \n",
      " 12  Discharge Date      10000 non-null  datetime64[ns]\n",
      " 13  Medication          10000 non-null  object        \n",
      " 14  Test Results        9990 non-null   object        \n",
      "dtypes: datetime64[ns](2), float64(1), int32(1), int64(1), object(10)\n",
      "memory usage: 1.1+ MB\n"
     ]
    }
   ],
   "source": [
    "dataset.info()"
   ]
  },
  {
   "cell_type": "code",
   "execution_count": 20,
   "id": "18d7775e",
   "metadata": {},
   "outputs": [],
   "source": [
    "dataset['Blood Type'].fillna('O+', inplace=True)"
   ]
  },
  {
   "cell_type": "code",
   "execution_count": 21,
   "id": "7a2f7f9c",
   "metadata": {},
   "outputs": [
    {
     "name": "stdout",
     "output_type": "stream",
     "text": [
      "Columns with missing values:\n",
      "Name                  25\n",
      "Age                    0\n",
      "Gender                23\n",
      "Blood Type             0\n",
      "Medical Condition      0\n",
      "Date of Admission      0\n",
      "Doctor                 0\n",
      "Hospital              17\n",
      "Insurance Provider     9\n",
      "Billing Amount         0\n",
      "Room Number            0\n",
      "Admission Type         2\n",
      "Discharge Date         0\n",
      "Medication             0\n",
      "Test Results          10\n",
      "dtype: int64\n"
     ]
    }
   ],
   "source": [
    "missing_values=dataset.isnull().sum()\n",
    "print(\"Columns with missing values:\")\n",
    "print(missing_values)"
   ]
  },
  {
   "cell_type": "code",
   "execution_count": 22,
   "id": "81c10a27",
   "metadata": {},
   "outputs": [],
   "source": [
    "dataset['Admission Type'].fillna(dataset['Admission Type'].mode().iloc[0], inplace=True)"
   ]
  },
  {
   "cell_type": "code",
   "execution_count": 23,
   "id": "25f91d21",
   "metadata": {},
   "outputs": [],
   "source": [
    "dataset['Insurance Provider'].fillna(dataset['Insurance Provider'].interpolate(method='pad'), inplace=True)"
   ]
  },
  {
   "cell_type": "code",
   "execution_count": 24,
   "id": "72a3453a",
   "metadata": {},
   "outputs": [
    {
     "name": "stdout",
     "output_type": "stream",
     "text": [
      "Columns with missing values:\n",
      "Name            25\n",
      "Gender          23\n",
      "Hospital        17\n",
      "Test Results    10\n",
      "dtype: int64\n"
     ]
    }
   ],
   "source": [
    "new_missing_values=dataset.isnull().sum()\n",
    "print(\"Columns with missing values:\")\n",
    "print(new_missing_values[new_missing_values>0])"
   ]
  },
  {
   "cell_type": "code",
   "execution_count": 25,
   "id": "225abdf7",
   "metadata": {},
   "outputs": [],
   "source": [
    "# Drop rows with any missing values in the entire dataset\n",
    "dataset.dropna(inplace=True)\n"
   ]
  },
  {
   "cell_type": "code",
   "execution_count": 27,
   "id": "1b0c9f53",
   "metadata": {},
   "outputs": [
    {
     "name": "stdout",
     "output_type": "stream",
     "text": [
      "<class 'pandas.core.frame.DataFrame'>\n",
      "Int64Index: 9926 entries, 0 to 9999\n",
      "Data columns (total 15 columns):\n",
      " #   Column              Non-Null Count  Dtype         \n",
      "---  ------              --------------  -----         \n",
      " 0   Name                9926 non-null   object        \n",
      " 1   Age                 9926 non-null   int32         \n",
      " 2   Gender              9926 non-null   object        \n",
      " 3   Blood Type          9926 non-null   object        \n",
      " 4   Medical Condition   9926 non-null   object        \n",
      " 5   Date of Admission   9926 non-null   datetime64[ns]\n",
      " 6   Doctor              9926 non-null   object        \n",
      " 7   Hospital            9926 non-null   object        \n",
      " 8   Insurance Provider  9926 non-null   object        \n",
      " 9   Billing Amount      9926 non-null   float64       \n",
      " 10  Room Number         9926 non-null   int64         \n",
      " 11  Admission Type      9926 non-null   object        \n",
      " 12  Discharge Date      9926 non-null   datetime64[ns]\n",
      " 13  Medication          9926 non-null   object        \n",
      " 14  Test Results        9926 non-null   object        \n",
      "dtypes: datetime64[ns](2), float64(1), int32(1), int64(1), object(10)\n",
      "memory usage: 1.2+ MB\n"
     ]
    }
   ],
   "source": [
    "dataset.info()"
   ]
  },
  {
   "cell_type": "code",
   "execution_count": 29,
   "id": "d9681607",
   "metadata": {},
   "outputs": [],
   "source": [
    "dataset.to_csv('cleaned_dataset.csv', index=False)"
   ]
  },
  {
   "cell_type": "code",
   "execution_count": 31,
   "id": "d60de2c3",
   "metadata": {},
   "outputs": [
    {
     "name": "stdout",
     "output_type": "stream",
     "text": [
      "Accuracy: 0.34\n",
      "Classification Report:\n",
      "               precision    recall  f1-score   support\n",
      "\n",
      "    Elective       0.37      0.35      0.36       658\n",
      "   Emergency       0.33      0.33      0.33       671\n",
      "      Urgent       0.32      0.33      0.33       657\n",
      "\n",
      "    accuracy                           0.34      1986\n",
      "   macro avg       0.34      0.34      0.34      1986\n",
      "weighted avg       0.34      0.34      0.34      1986\n",
      "\n"
     ]
    }
   ],
   "source": [
    "# Import necessary libraries\n",
    "\n",
    "import pandas as pd\n",
    "dataset=pd.read_csv(r\"C:\\Users\\shuba\\Desktop\\New folder\\cleaned_dataset.csv\")\n",
    "from sklearn.model_selection import train_test_split\n",
    "from sklearn.tree import DecisionTreeClassifier\n",
    "from sklearn.metrics import accuracy_score, classification_report\n",
    "\n",
    "# Assuming 'dataset' is your DataFrame\n",
    "# Let's drop unnecessary columns for this example\n",
    "features =dataset.drop(['Admission Type', 'Date of Admission', 'Discharge Date'], axis=1)\n",
    "target =dataset['Admission Type']\n",
    "\n",
    "# Convert categorical variables to dummy/indicator variables\n",
    "features = pd.get_dummies(features)\n",
    "\n",
    "# Split the dataset into training and testing sets\n",
    "X_train, X_test, y_train, y_test = train_test_split(features, target, test_size=0.2, random_state=42)\n",
    "\n",
    "# Choose a predictive model (Decision Tree Classifier in this example)\n",
    "model = DecisionTreeClassifier(random_state=42)\n",
    "\n",
    "# Train the model\n",
    "model.fit(X_train, y_train)\n",
    "\n",
    "# Make predictions on the test set\n",
    "y_pred = model.predict(X_test)\n",
    "\n",
    "# Evaluate the model\n",
    "accuracy = accuracy_score(y_test, y_pred)\n",
    "print(f'Accuracy: {accuracy:.2f}')\n",
    "\n",
    "# Display classification report\n",
    "print('Classification Report:\\n', classification_report(y_test, y_pred))\n"
   ]
  },
  {
   "cell_type": "code",
   "execution_count": 32,
   "id": "9fdb5c6c",
   "metadata": {},
   "outputs": [
    {
     "name": "stdout",
     "output_type": "stream",
     "text": [
      "         Actual  Predicted\n",
      "4407  Emergency   Elective\n",
      "2769  Emergency   Elective\n",
      "388   Emergency     Urgent\n",
      "6586   Elective   Elective\n",
      "6769  Emergency  Emergency\n",
      "...         ...        ...\n",
      "8565     Urgent     Urgent\n",
      "6391     Urgent  Emergency\n",
      "6720     Urgent     Urgent\n",
      "7871     Urgent   Elective\n",
      "3903  Emergency  Emergency\n",
      "\n",
      "[1986 rows x 2 columns]\n"
     ]
    }
   ],
   "source": [
    "predictions_df = pd.DataFrame({'Actual': y_test, 'Predicted': y_pred})\n",
    "print(predictions_df.head(9927))\n"
   ]
  },
  {
   "cell_type": "code",
   "execution_count": 33,
   "id": "38ddd26d",
   "metadata": {},
   "outputs": [
    {
     "name": "stdout",
     "output_type": "stream",
     "text": [
      "   Year  Predicted Male Count  Predicted Female Count  Percentage Male  \\\n",
      "0  2024                 808.5                   777.5        50.977301   \n",
      "1  2025                 751.7                   702.0        51.709431   \n",
      "2  2026                 694.9                   626.5        52.588164   \n",
      "3  2027                 638.1                   551.0        53.662434   \n",
      "4  2028                 581.3                   475.5        55.005678   \n",
      "\n",
      "   Percentage Female  \n",
      "0          49.022699  \n",
      "1          48.290569  \n",
      "2          47.411836  \n",
      "3          46.337566  \n",
      "4          44.994322  \n"
     ]
    }
   ],
   "source": [
    "# Assuming 'dataset' is your DataFrame\n",
    "from sklearn.model_selection import train_test_split\n",
    "from sklearn.linear_model import LinearRegression\n",
    "import pandas as pd\n",
    "\n",
    "# Convert 'Date of Admission' to datetime format\n",
    "dataset['Date of Admission'] = pd.to_datetime(dataset['Date of Admission'])\n",
    "\n",
    "# Extract year from 'Date of Admission'\n",
    "dataset['Year'] = dataset['Date of Admission'].dt.year\n",
    "\n",
    "# Count the number of male and female patients for each year\n",
    "gender_counts = dataset.groupby(['Year', 'Gender']).size().reset_index(name='Patient Count')\n",
    "\n",
    "# Prepare the features and target for the regression model (predicting male count)\n",
    "X_male = gender_counts[gender_counts['Gender'] == 'Male'][['Year']]\n",
    "y_male = gender_counts[gender_counts['Gender'] == 'Male']['Patient Count']\n",
    "\n",
    "# Split the data into training and testing sets for males\n",
    "X_train_male, X_test_male, y_train_male, y_test_male = train_test_split(X_male, y_male, test_size=0.2, random_state=42)\n",
    "\n",
    "# Train a linear regression model for males\n",
    "model_male = LinearRegression()\n",
    "model_male.fit(X_train_male, y_train_male)\n",
    "\n",
    "# Prepare the features and target for the regression model (predicting female count)\n",
    "X_female = gender_counts[gender_counts['Gender'] == 'Female'][['Year']]\n",
    "y_female = gender_counts[gender_counts['Gender'] == 'Female']['Patient Count']\n",
    "\n",
    "# Split the data into training and testing sets for females\n",
    "X_train_female, X_test_female, y_train_female, y_test_female = train_test_split(X_female, y_female, test_size=0.2, random_state=42)\n",
    "\n",
    "# Train a linear regression model for females\n",
    "model_female = LinearRegression()\n",
    "model_female.fit(X_train_female, y_train_female)\n",
    "\n",
    "# Predict the counts for the next 5 years\n",
    "next_years = pd.DataFrame({'Year': [year for year in range(2024, 2029)]})\n",
    "\n",
    "# Predict the counts of male patients for the next 5 years\n",
    "predicted_male_counts = model_male.predict(next_years)\n",
    "\n",
    "# Predict the counts of female patients for the next 5 years\n",
    "predicted_female_counts = model_female.predict(next_years)\n",
    "\n",
    "# Combine the predictions into a DataFrame\n",
    "predicted_counts = pd.DataFrame({\n",
    "    'Year': next_years['Year'],\n",
    "    'Predicted Male Count': predicted_male_counts,\n",
    "    'Predicted Female Count': predicted_female_counts\n",
    "})\n",
    "\n",
    "# Calculate the percentage of male and female patients\n",
    "total_predicted_counts = predicted_counts['Predicted Male Count'] + predicted_counts['Predicted Female Count']\n",
    "\n",
    "predicted_counts['Percentage Male'] = (predicted_counts['Predicted Male Count'] / total_predicted_counts) * 100\n",
    "predicted_counts['Percentage Female'] = (predicted_counts['Predicted Female Count'] / total_predicted_counts) * 100\n",
    "\n",
    "# Print the predicted counts and percentages\n",
    "print(predicted_counts)\n"
   ]
  },
  {
   "cell_type": "code",
   "execution_count": 34,
   "id": "fa4bcd14",
   "metadata": {},
   "outputs": [
    {
     "data": {
      "image/png": "[encoded data removed]",
      "text/plain": [
       "<Figure size 1200x800 with 1 Axes>"
      ]
     },
     "metadata": {},
     "output_type": "display_data"
    }
   ],
   "source": [
    "import matplotlib.pyplot as plt\n",
    "\n",
    "# Assuming 'result' is your DataFrame with the provided data\n",
    "# Modify this with your actual data\n",
    "result_data = {\n",
    "    'Year': [2024, 2025, 2026, 2027, 2028],\n",
    "    'Predicted Male Count': [808.5, 751.7, 694.9, 638.1, 581.3],\n",
    "    'Predicted Female Count': [777.5, 702.0, 626.5, 551.0, 475.5],\n",
    "    'Percentage Male': [50.977301, 51.709431, 52.588164, 53.662434, 55.005678],\n",
    "    'Percentage Female': [49.022699, 48.290569, 47.411836, 46.337566, 44.994322]\n",
    "}\n",
    "\n",
    "result = pd.DataFrame(result_data)\n",
    "\n",
    "# Plotting\n",
    "plt.figure(figsize=(12, 8))\n",
    "\n",
    "# Plot Predicted Male and Female Counts\n",
    "plt.plot(result['Year'], result['Predicted Male Count'], label='Predicted Male Count', marker='o')\n",
    "plt.plot(result['Year'], result['Predicted Female Count'], label='Predicted Female Count', marker='o')\n",
    "\n",
    "# Plot Percentage Male and Female\n",
    "plt.plot(result['Year'], result['Percentage Male'], label='Percentage Male', marker='o')\n",
    "plt.plot(result['Year'], result['Percentage Female'], label='Percentage Female', marker='o')\n",
    "\n",
    "# Adding labels and title\n",
    "plt.xlabel('Year')\n",
    "plt.ylabel('Counts / Percentages')\n",
    "plt.title('Predicted Counts and Percentages Over the Years')\n",
    "plt.legend()\n",
    "plt.grid(True)\n",
    "plt.show()\n",
    "\n"
   ]
  },
  {
   "cell_type": "code",
   "execution_count": null,
   "id": "43f55553",
   "metadata": {},
   "outputs": [],
   "source": []
  }
 ],
 "metadata": {
  "kernelspec": {
   "display_name": "Python 3 (ipykernel)",
   "language": "python",
   "name": "python3"
  },
  "language_info": {
   "codemirror_mode": {
    "name": "ipython",
    "version": 3
   },
   "file_extension": ".py",
   "mimetype": "text/x-python",
   "name": "python",
   "nbconvert_exporter": "python",
   "pygments_lexer": "ipython3",
   "version": "3.11.4"
  }
 },
 "nbformat": 4,
 "nbformat_minor": 5
}
